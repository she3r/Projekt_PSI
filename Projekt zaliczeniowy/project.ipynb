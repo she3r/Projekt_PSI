{
 "cells": [
  {
   "cell_type": "code",
   "execution_count": 1,
   "metadata": {
    "collapsed": true,
    "pycharm": {
     "name": "#%%\n"
    }
   },
   "outputs": [],
   "source": [
    "from matplotlib import pyplot as plt\n",
    "import warnings\n",
    "warnings.filterwarnings('ignore')\n",
    "%matplotlib inline\n",
    "import numpy as np\n",
    "import pandas as pd\n",
    "import seaborn as sns"
   ]
  },
  {
   "cell_type": "markdown",
   "source": [
    "Projekt zaliczeniowy PSI- Piotr Kubacki\n",
    "Temat: Przewidywanie zawału na podstawie danych medycznych"
   ],
   "metadata": {
    "collapsed": false,
    "pycharm": {
     "name": "#%% md\n"
    }
   }
  },
  {
   "cell_type": "code",
   "source": [
    "data = pd.read_csv(\"healthcare-dataset-stroke-data.csv\")\n",
    "del data['id']\n",
    "data.head(10)"
   ],
   "metadata": {
    "collapsed": false,
    "pycharm": {
     "name": "#%%\n"
    }
   },
   "execution_count": 2,
   "outputs": [
    {
     "data": {
      "text/plain": "   gender   age  hypertension  heart_disease ever_married      work_type  \\\n0    Male  67.0             0              1          Yes        Private   \n1  Female  61.0             0              0          Yes  Self-employed   \n2    Male  80.0             0              1          Yes        Private   \n3  Female  49.0             0              0          Yes        Private   \n4  Female  79.0             1              0          Yes  Self-employed   \n5    Male  81.0             0              0          Yes        Private   \n6    Male  74.0             1              1          Yes        Private   \n7  Female  69.0             0              0           No        Private   \n8  Female  59.0             0              0          Yes        Private   \n9  Female  78.0             0              0          Yes        Private   \n\n  Residence_type  avg_glucose_level   bmi   smoking_status  stroke  \n0          Urban             228.69  36.6  formerly smoked       1  \n1          Rural             202.21   NaN     never smoked       1  \n2          Rural             105.92  32.5     never smoked       1  \n3          Urban             171.23  34.4           smokes       1  \n4          Rural             174.12  24.0     never smoked       1  \n5          Urban             186.21  29.0  formerly smoked       1  \n6          Rural              70.09  27.4     never smoked       1  \n7          Urban              94.39  22.8     never smoked       1  \n8          Rural              76.15   NaN          Unknown       1  \n9          Urban              58.57  24.2          Unknown       1  ",
      "text/html": "<div>\n<style scoped>\n    .dataframe tbody tr th:only-of-type {\n        vertical-align: middle;\n    }\n\n    .dataframe tbody tr th {\n        vertical-align: top;\n    }\n\n    .dataframe thead th {\n        text-align: right;\n    }\n</style>\n<table border=\"1\" class=\"dataframe\">\n  <thead>\n    <tr style=\"text-align: right;\">\n      <th></th>\n      <th>gender</th>\n      <th>age</th>\n      <th>hypertension</th>\n      <th>heart_disease</th>\n      <th>ever_married</th>\n      <th>work_type</th>\n      <th>Residence_type</th>\n      <th>avg_glucose_level</th>\n      <th>bmi</th>\n      <th>smoking_status</th>\n      <th>stroke</th>\n    </tr>\n  </thead>\n  <tbody>\n    <tr>\n      <th>0</th>\n      <td>Male</td>\n      <td>67.0</td>\n      <td>0</td>\n      <td>1</td>\n      <td>Yes</td>\n      <td>Private</td>\n      <td>Urban</td>\n      <td>228.69</td>\n      <td>36.6</td>\n      <td>formerly smoked</td>\n      <td>1</td>\n    </tr>\n    <tr>\n      <th>1</th>\n      <td>Female</td>\n      <td>61.0</td>\n      <td>0</td>\n      <td>0</td>\n      <td>Yes</td>\n      <td>Self-employed</td>\n      <td>Rural</td>\n      <td>202.21</td>\n      <td>NaN</td>\n      <td>never smoked</td>\n      <td>1</td>\n    </tr>\n    <tr>\n      <th>2</th>\n      <td>Male</td>\n      <td>80.0</td>\n      <td>0</td>\n      <td>1</td>\n      <td>Yes</td>\n      <td>Private</td>\n      <td>Rural</td>\n      <td>105.92</td>\n      <td>32.5</td>\n      <td>never smoked</td>\n      <td>1</td>\n    </tr>\n    <tr>\n      <th>3</th>\n      <td>Female</td>\n      <td>49.0</td>\n      <td>0</td>\n      <td>0</td>\n      <td>Yes</td>\n      <td>Private</td>\n      <td>Urban</td>\n      <td>171.23</td>\n      <td>34.4</td>\n      <td>smokes</td>\n      <td>1</td>\n    </tr>\n    <tr>\n      <th>4</th>\n      <td>Female</td>\n      <td>79.0</td>\n      <td>1</td>\n      <td>0</td>\n      <td>Yes</td>\n      <td>Self-employed</td>\n      <td>Rural</td>\n      <td>174.12</td>\n      <td>24.0</td>\n      <td>never smoked</td>\n      <td>1</td>\n    </tr>\n    <tr>\n      <th>5</th>\n      <td>Male</td>\n      <td>81.0</td>\n      <td>0</td>\n      <td>0</td>\n      <td>Yes</td>\n      <td>Private</td>\n      <td>Urban</td>\n      <td>186.21</td>\n      <td>29.0</td>\n      <td>formerly smoked</td>\n      <td>1</td>\n    </tr>\n    <tr>\n      <th>6</th>\n      <td>Male</td>\n      <td>74.0</td>\n      <td>1</td>\n      <td>1</td>\n      <td>Yes</td>\n      <td>Private</td>\n      <td>Rural</td>\n      <td>70.09</td>\n      <td>27.4</td>\n      <td>never smoked</td>\n      <td>1</td>\n    </tr>\n    <tr>\n      <th>7</th>\n      <td>Female</td>\n      <td>69.0</td>\n      <td>0</td>\n      <td>0</td>\n      <td>No</td>\n      <td>Private</td>\n      <td>Urban</td>\n      <td>94.39</td>\n      <td>22.8</td>\n      <td>never smoked</td>\n      <td>1</td>\n    </tr>\n    <tr>\n      <th>8</th>\n      <td>Female</td>\n      <td>59.0</td>\n      <td>0</td>\n      <td>0</td>\n      <td>Yes</td>\n      <td>Private</td>\n      <td>Rural</td>\n      <td>76.15</td>\n      <td>NaN</td>\n      <td>Unknown</td>\n      <td>1</td>\n    </tr>\n    <tr>\n      <th>9</th>\n      <td>Female</td>\n      <td>78.0</td>\n      <td>0</td>\n      <td>0</td>\n      <td>Yes</td>\n      <td>Private</td>\n      <td>Urban</td>\n      <td>58.57</td>\n      <td>24.2</td>\n      <td>Unknown</td>\n      <td>1</td>\n    </tr>\n  </tbody>\n</table>\n</div>"
     },
     "execution_count": 2,
     "metadata": {},
     "output_type": "execute_result"
    }
   ]
  },
  {
   "cell_type": "markdown",
   "source": [
    "1) id: unique identifier\n",
    "2) gender: \"Male\", \"Female\" or \"Other\"\n",
    "3) age: age of the patient\n",
    "4) hypertension: 0 if the patient doesn't have hypertension, 1 if the patient has hypertension\n",
    "5) heart_disease: 0 if the patient doesn't have any heart diseases, 1 if the patient has a heart disease\n",
    "6) ever_married: \"No\" or \"Yes\"\n",
    "7) work_type: \"children\", \"Govt_jov\", \"Never_worked\", \"Private\" or \"Self-employed\"\n",
    "8) Residence_type: \"Rural\" or \"Urban\"\n",
    "9) avg_glucose_level: average glucose level in blood\n",
    "10) bmi: body mass index\n",
    "11) smoking_status: \"formerly smoked\", \"never smoked\", \"smokes\" or \"Unknown\"*\n",
    "12) stroke: 1 if the patient had a stroke or 0 if not\n",
    "*Note: \"Unknown\" in smoking_status means that the information is unavailable for this patient"
   ],
   "metadata": {
    "collapsed": false,
    "pycharm": {
     "name": "#%% md\n"
    }
   }
  },
  {
   "cell_type": "code",
   "execution_count": 3,
   "outputs": [
    {
     "name": "stdout",
     "output_type": "stream",
     "text": [
      "<class 'pandas.core.frame.DataFrame'>\n",
      "RangeIndex: 5110 entries, 0 to 5109\n",
      "Data columns (total 11 columns):\n",
      " #   Column             Non-Null Count  Dtype  \n",
      "---  ------             --------------  -----  \n",
      " 0   gender             5110 non-null   object \n",
      " 1   age                5110 non-null   float64\n",
      " 2   hypertension       5110 non-null   int64  \n",
      " 3   heart_disease      5110 non-null   int64  \n",
      " 4   ever_married       5110 non-null   object \n",
      " 5   work_type          5110 non-null   object \n",
      " 6   Residence_type     5110 non-null   object \n",
      " 7   avg_glucose_level  5110 non-null   float64\n",
      " 8   bmi                4909 non-null   float64\n",
      " 9   smoking_status     5110 non-null   object \n",
      " 10  stroke             5110 non-null   int64  \n",
      "dtypes: float64(3), int64(3), object(5)\n",
      "memory usage: 439.3+ KB\n"
     ]
    }
   ],
   "source": [
    "data.info()"
   ],
   "metadata": {
    "collapsed": false,
    "pycharm": {
     "name": "#%%\n"
    }
   }
  },
  {
   "cell_type": "code",
   "execution_count": 4,
   "outputs": [
    {
     "name": "stdout",
     "output_type": "stream",
     "text": [
      "['Male' 'Female' 'Other']\n",
      "['Yes' 'No']\n",
      "['Private' 'Self-employed' 'Govt_job' 'children' 'Never_worked']\n",
      "['Urban' 'Rural']\n",
      "['formerly smoked' 'never smoked' 'smokes' 'Unknown']\n"
     ]
    }
   ],
   "source": [
    "for col in (data['gender'],data['ever_married'],data['work_type'],data['Residence_type'],data['smoking_status']):\n",
    "    print(col.unique())"
   ],
   "metadata": {
    "collapsed": false,
    "pycharm": {
     "name": "#%%\n"
    }
   }
  },
  {
   "cell_type": "markdown",
   "source": [
    "W kolumnie smoking_status mamy do uzupełnienia wartości 'Unknown'. Przyjrzyjmy się temu"
   ],
   "metadata": {
    "collapsed": false,
    "pycharm": {
     "name": "#%% md\n"
    }
   }
  },
  {
   "cell_type": "code",
   "source": [
    "len(data.loc[data['smoking_status'] == 'Unknown'])/len(data)"
   ],
   "metadata": {
    "collapsed": false,
    "pycharm": {
     "name": "#%%\n"
    }
   },
   "execution_count": 5,
   "outputs": [
    {
     "data": {
      "text/plain": "0.3021526418786693"
     },
     "execution_count": 5,
     "metadata": {},
     "output_type": "execute_result"
    }
   ]
  },
  {
   "cell_type": "markdown",
   "source": [
    "30% to dużo. Możemy pozbyć się tej kolumny albo jakoś ją uzupełnić. Zdrowy rozsądek podpowiada jednak, że status palacza ma duży, a może nawet decydujący wpływ na ewentualność zawału. Zachowamy więc naszą kolumnę, uzupełnimy dane przez modę z kolumny."
   ],
   "metadata": {
    "collapsed": false,
    "pycharm": {
     "name": "#%% md\n"
    }
   }
  },
  {
   "cell_type": "code",
   "source": [
    "mode=data['smoking_status'].mode()  # wychodzi ze najczesciej jest 'never smoked'."
   ],
   "metadata": {
    "collapsed": false,
    "pycharm": {
     "name": "#%%\n"
    }
   },
   "execution_count": 6,
   "outputs": []
  },
  {
   "cell_type": "code",
   "execution_count": 7,
   "outputs": [],
   "source": [
    "mode='never smoked'"
   ],
   "metadata": {
    "collapsed": false,
    "pycharm": {
     "name": "#%%\n"
    }
   }
  },
  {
   "cell_type": "code",
   "execution_count": 8,
   "outputs": [
    {
     "data": {
      "text/plain": "array(['formerly smoked', 'never smoked', 'smokes'], dtype=object)"
     },
     "execution_count": 8,
     "metadata": {},
     "output_type": "execute_result"
    }
   ],
   "source": [
    "data['smoking_status']=data['smoking_status'].replace('Unknown',mode)\n",
    "data['smoking_status'].unique()"
   ],
   "metadata": {
    "collapsed": false,
    "pycharm": {
     "name": "#%%\n"
    }
   }
  },
  {
   "cell_type": "code",
   "execution_count": 9,
   "outputs": [
    {
     "name": "stdout",
     "output_type": "stream",
     "text": [
      "<class 'pandas.core.frame.DataFrame'>\n",
      "RangeIndex: 5110 entries, 0 to 5109\n",
      "Data columns (total 11 columns):\n",
      " #   Column             Non-Null Count  Dtype  \n",
      "---  ------             --------------  -----  \n",
      " 0   gender             5110 non-null   object \n",
      " 1   age                5110 non-null   float64\n",
      " 2   hypertension       5110 non-null   int64  \n",
      " 3   heart_disease      5110 non-null   int64  \n",
      " 4   ever_married       5110 non-null   object \n",
      " 5   work_type          5110 non-null   object \n",
      " 6   Residence_type     5110 non-null   object \n",
      " 7   avg_glucose_level  5110 non-null   float64\n",
      " 8   bmi                4909 non-null   float64\n",
      " 9   smoking_status     5110 non-null   object \n",
      " 10  stroke             5110 non-null   int64  \n",
      "dtypes: float64(3), int64(3), object(5)\n",
      "memory usage: 439.3+ KB\n"
     ]
    }
   ],
   "source": [
    "data.info()"
   ],
   "metadata": {
    "collapsed": false,
    "pycharm": {
     "name": "#%%\n"
    }
   }
  },
  {
   "cell_type": "markdown",
   "source": [
    "Poza tym, mamy względnie dobrze uporządkowane dane. Wartości w kolumnach kategorycznych są jednoznaczne. Nie ma zbyt wiele wybrakowanych wartości w kolumnach. Musimy jedynie uzupełnić stosunkowo niewiele wartości dla bmi. Wstawimy tam po prostu średnią z całej kolumny"
   ],
   "metadata": {
    "collapsed": false,
    "pycharm": {
     "name": "#%% md\n"
    }
   }
  },
  {
   "cell_type": "code",
   "source": [
    "mean_test = data['bmi'].mean()\n",
    "data['bmi'].fillna(mean_test,inplace=True)"
   ],
   "metadata": {
    "collapsed": false,
    "pycharm": {
     "name": "#%%\n"
    }
   },
   "execution_count": 10,
   "outputs": []
  },
  {
   "cell_type": "code",
   "execution_count": 11,
   "outputs": [
    {
     "name": "stdout",
     "output_type": "stream",
     "text": [
      "<class 'pandas.core.frame.DataFrame'>\n",
      "RangeIndex: 5110 entries, 0 to 5109\n",
      "Data columns (total 11 columns):\n",
      " #   Column             Non-Null Count  Dtype  \n",
      "---  ------             --------------  -----  \n",
      " 0   gender             5110 non-null   object \n",
      " 1   age                5110 non-null   float64\n",
      " 2   hypertension       5110 non-null   int64  \n",
      " 3   heart_disease      5110 non-null   int64  \n",
      " 4   ever_married       5110 non-null   object \n",
      " 5   work_type          5110 non-null   object \n",
      " 6   Residence_type     5110 non-null   object \n",
      " 7   avg_glucose_level  5110 non-null   float64\n",
      " 8   bmi                5110 non-null   float64\n",
      " 9   smoking_status     5110 non-null   object \n",
      " 10  stroke             5110 non-null   int64  \n",
      "dtypes: float64(3), int64(3), object(5)\n",
      "memory usage: 439.3+ KB\n"
     ]
    }
   ],
   "source": [
    "data.info()"
   ],
   "metadata": {
    "collapsed": false,
    "pycharm": {
     "name": "#%%\n"
    }
   }
  },
  {
   "cell_type": "markdown",
   "source": [
    "Przejrzyjmy dane i podzielmy je na numeryczne i kategoryczne"
   ],
   "metadata": {
    "collapsed": false,
    "pycharm": {
     "name": "#%% md\n"
    }
   }
  },
  {
   "cell_type": "code",
   "source": [
    "numerical_data = data[['stroke','age','avg_glucose_level','bmi']]\n",
    "numerical_data"
   ],
   "metadata": {
    "collapsed": false,
    "pycharm": {
     "name": "#%%\n"
    }
   },
   "execution_count": 12,
   "outputs": [
    {
     "data": {
      "text/plain": "      stroke   age  avg_glucose_level        bmi\n0          1  67.0             228.69  36.600000\n1          1  61.0             202.21  28.893237\n2          1  80.0             105.92  32.500000\n3          1  49.0             171.23  34.400000\n4          1  79.0             174.12  24.000000\n...      ...   ...                ...        ...\n5105       0  80.0              83.75  28.893237\n5106       0  81.0             125.20  40.000000\n5107       0  35.0              82.99  30.600000\n5108       0  51.0             166.29  25.600000\n5109       0  44.0              85.28  26.200000\n\n[5110 rows x 4 columns]",
      "text/html": "<div>\n<style scoped>\n    .dataframe tbody tr th:only-of-type {\n        vertical-align: middle;\n    }\n\n    .dataframe tbody tr th {\n        vertical-align: top;\n    }\n\n    .dataframe thead th {\n        text-align: right;\n    }\n</style>\n<table border=\"1\" class=\"dataframe\">\n  <thead>\n    <tr style=\"text-align: right;\">\n      <th></th>\n      <th>stroke</th>\n      <th>age</th>\n      <th>avg_glucose_level</th>\n      <th>bmi</th>\n    </tr>\n  </thead>\n  <tbody>\n    <tr>\n      <th>0</th>\n      <td>1</td>\n      <td>67.0</td>\n      <td>228.69</td>\n      <td>36.600000</td>\n    </tr>\n    <tr>\n      <th>1</th>\n      <td>1</td>\n      <td>61.0</td>\n      <td>202.21</td>\n      <td>28.893237</td>\n    </tr>\n    <tr>\n      <th>2</th>\n      <td>1</td>\n      <td>80.0</td>\n      <td>105.92</td>\n      <td>32.500000</td>\n    </tr>\n    <tr>\n      <th>3</th>\n      <td>1</td>\n      <td>49.0</td>\n      <td>171.23</td>\n      <td>34.400000</td>\n    </tr>\n    <tr>\n      <th>4</th>\n      <td>1</td>\n      <td>79.0</td>\n      <td>174.12</td>\n      <td>24.000000</td>\n    </tr>\n    <tr>\n      <th>...</th>\n      <td>...</td>\n      <td>...</td>\n      <td>...</td>\n      <td>...</td>\n    </tr>\n    <tr>\n      <th>5105</th>\n      <td>0</td>\n      <td>80.0</td>\n      <td>83.75</td>\n      <td>28.893237</td>\n    </tr>\n    <tr>\n      <th>5106</th>\n      <td>0</td>\n      <td>81.0</td>\n      <td>125.20</td>\n      <td>40.000000</td>\n    </tr>\n    <tr>\n      <th>5107</th>\n      <td>0</td>\n      <td>35.0</td>\n      <td>82.99</td>\n      <td>30.600000</td>\n    </tr>\n    <tr>\n      <th>5108</th>\n      <td>0</td>\n      <td>51.0</td>\n      <td>166.29</td>\n      <td>25.600000</td>\n    </tr>\n    <tr>\n      <th>5109</th>\n      <td>0</td>\n      <td>44.0</td>\n      <td>85.28</td>\n      <td>26.200000</td>\n    </tr>\n  </tbody>\n</table>\n<p>5110 rows × 4 columns</p>\n</div>"
     },
     "execution_count": 12,
     "metadata": {},
     "output_type": "execute_result"
    }
   ]
  },
  {
   "cell_type": "markdown",
   "source": [
    "Zadziałamy teraz trochę w Feature Engineering. Zamienimy wartości numeryczne w zmiennych ciągłych na kilka dyskretnych wartości."
   ],
   "metadata": {
    "collapsed": false,
    "pycharm": {
     "name": "#%% md\n"
    }
   }
  },
  {
   "cell_type": "code",
   "source": [
    "# q1 = [0,np.quantile(data['age'],0.4),np.quantile(data['age'],0.65),np.quantile(data['age'],0.8),np.max(data['age'])]\n",
    "q2 = [0,np.quantile(data['avg_glucose_level'],0.3),np.quantile(data['avg_glucose_level'],0.6),np.quantile(data['avg_glucose_level'],0.8),np.max(data['avg_glucose_level'])]\n",
    "# q3 = [np.quantile(data['bmi'],0.20),np.median(data['bmi']),np.mean(data['bmi']),np.quantile(data['bmi'],0.85)]\n",
    "q3 = [0,np.quantile(data['bmi'],0.3),np.quantile(data['bmi'],0.6),np.quantile(data['bmi'],0.8),np.max(data['bmi'])]\n",
    "data['Age_bin'] = pd.cut(data['age'], bins=[0,12,20,60,120], labels=['Children','Teenage','Adult','Elder'])\n",
    "data['avg_glucose_level_bin'] = pd.cut(data['avg_glucose_level'], bins=q2, labels=['low_glucose_level','medium_glucose_level',\n",
    "                                                                                      'high_glucose_level','very_high_glucose_level'])\n",
    "data['bmi_bin'] = pd.cut(data['bmi'], bins=q3, labels=['low_bmi','medium_bmi','high_bmi','very_high_bmi'])"
   ],
   "metadata": {
    "collapsed": false,
    "pycharm": {
     "name": "#%%\n"
    }
   },
   "execution_count": 13,
   "outputs": []
  },
  {
   "cell_type": "code",
   "execution_count": 14,
   "outputs": [
    {
     "data": {
      "text/plain": "      stroke   age  avg_glucose_level        bmi        bmi_bin  \\\n0          1  67.0             228.69  36.600000  very_high_bmi   \n1          1  61.0             202.21  28.893237     medium_bmi   \n2          1  80.0             105.92  32.500000       high_bmi   \n3          1  49.0             171.23  34.400000  very_high_bmi   \n4          1  79.0             174.12  24.000000        low_bmi   \n...      ...   ...                ...        ...            ...   \n5105       0  80.0              83.75  28.893237     medium_bmi   \n5106       0  81.0             125.20  40.000000  very_high_bmi   \n5107       0  35.0              82.99  30.600000       high_bmi   \n5108       0  51.0             166.29  25.600000     medium_bmi   \n5109       0  44.0              85.28  26.200000     medium_bmi   \n\n        avg_glucose_level_bin  \n0     very_high_glucose_level  \n1     very_high_glucose_level  \n2          high_glucose_level  \n3     very_high_glucose_level  \n4     very_high_glucose_level  \n...                       ...  \n5105     medium_glucose_level  \n5106  very_high_glucose_level  \n5107     medium_glucose_level  \n5108  very_high_glucose_level  \n5109     medium_glucose_level  \n\n[5110 rows x 6 columns]",
      "text/html": "<div>\n<style scoped>\n    .dataframe tbody tr th:only-of-type {\n        vertical-align: middle;\n    }\n\n    .dataframe tbody tr th {\n        vertical-align: top;\n    }\n\n    .dataframe thead th {\n        text-align: right;\n    }\n</style>\n<table border=\"1\" class=\"dataframe\">\n  <thead>\n    <tr style=\"text-align: right;\">\n      <th></th>\n      <th>stroke</th>\n      <th>age</th>\n      <th>avg_glucose_level</th>\n      <th>bmi</th>\n      <th>bmi_bin</th>\n      <th>avg_glucose_level_bin</th>\n    </tr>\n  </thead>\n  <tbody>\n    <tr>\n      <th>0</th>\n      <td>1</td>\n      <td>67.0</td>\n      <td>228.69</td>\n      <td>36.600000</td>\n      <td>very_high_bmi</td>\n      <td>very_high_glucose_level</td>\n    </tr>\n    <tr>\n      <th>1</th>\n      <td>1</td>\n      <td>61.0</td>\n      <td>202.21</td>\n      <td>28.893237</td>\n      <td>medium_bmi</td>\n      <td>very_high_glucose_level</td>\n    </tr>\n    <tr>\n      <th>2</th>\n      <td>1</td>\n      <td>80.0</td>\n      <td>105.92</td>\n      <td>32.500000</td>\n      <td>high_bmi</td>\n      <td>high_glucose_level</td>\n    </tr>\n    <tr>\n      <th>3</th>\n      <td>1</td>\n      <td>49.0</td>\n      <td>171.23</td>\n      <td>34.400000</td>\n      <td>very_high_bmi</td>\n      <td>very_high_glucose_level</td>\n    </tr>\n    <tr>\n      <th>4</th>\n      <td>1</td>\n      <td>79.0</td>\n      <td>174.12</td>\n      <td>24.000000</td>\n      <td>low_bmi</td>\n      <td>very_high_glucose_level</td>\n    </tr>\n    <tr>\n      <th>...</th>\n      <td>...</td>\n      <td>...</td>\n      <td>...</td>\n      <td>...</td>\n      <td>...</td>\n      <td>...</td>\n    </tr>\n    <tr>\n      <th>5105</th>\n      <td>0</td>\n      <td>80.0</td>\n      <td>83.75</td>\n      <td>28.893237</td>\n      <td>medium_bmi</td>\n      <td>medium_glucose_level</td>\n    </tr>\n    <tr>\n      <th>5106</th>\n      <td>0</td>\n      <td>81.0</td>\n      <td>125.20</td>\n      <td>40.000000</td>\n      <td>very_high_bmi</td>\n      <td>very_high_glucose_level</td>\n    </tr>\n    <tr>\n      <th>5107</th>\n      <td>0</td>\n      <td>35.0</td>\n      <td>82.99</td>\n      <td>30.600000</td>\n      <td>high_bmi</td>\n      <td>medium_glucose_level</td>\n    </tr>\n    <tr>\n      <th>5108</th>\n      <td>0</td>\n      <td>51.0</td>\n      <td>166.29</td>\n      <td>25.600000</td>\n      <td>medium_bmi</td>\n      <td>very_high_glucose_level</td>\n    </tr>\n    <tr>\n      <th>5109</th>\n      <td>0</td>\n      <td>44.0</td>\n      <td>85.28</td>\n      <td>26.200000</td>\n      <td>medium_bmi</td>\n      <td>medium_glucose_level</td>\n    </tr>\n  </tbody>\n</table>\n<p>5110 rows × 6 columns</p>\n</div>"
     },
     "execution_count": 14,
     "metadata": {},
     "output_type": "execute_result"
    }
   ],
   "source": [
    "numerical_data['bmi_bin']=data['bmi_bin']\n",
    "numerical_data['avg_glucose_level_bin']=data['avg_glucose_level_bin']\n",
    "numerical_data"
   ],
   "metadata": {
    "collapsed": false,
    "pycharm": {
     "name": "#%%\n"
    }
   }
  },
  {
   "cell_type": "code",
   "execution_count": 15,
   "outputs": [
    {
     "data": {
      "text/plain": "      gender  hypertension  heart_disease ever_married      work_type  \\\n0       Male             0              1          Yes        Private   \n1     Female             0              0          Yes  Self-employed   \n2       Male             0              1          Yes        Private   \n3     Female             0              0          Yes        Private   \n4     Female             1              0          Yes  Self-employed   \n...      ...           ...            ...          ...            ...   \n5105  Female             1              0          Yes        Private   \n5106  Female             0              0          Yes  Self-employed   \n5107  Female             0              0          Yes  Self-employed   \n5108    Male             0              0          Yes        Private   \n5109  Female             0              0          Yes       Govt_job   \n\n     Residence_type   smoking_status  \n0             Urban  formerly smoked  \n1             Rural     never smoked  \n2             Rural     never smoked  \n3             Urban           smokes  \n4             Rural     never smoked  \n...             ...              ...  \n5105          Urban     never smoked  \n5106          Urban     never smoked  \n5107          Rural     never smoked  \n5108          Rural  formerly smoked  \n5109          Urban     never smoked  \n\n[5110 rows x 7 columns]",
      "text/html": "<div>\n<style scoped>\n    .dataframe tbody tr th:only-of-type {\n        vertical-align: middle;\n    }\n\n    .dataframe tbody tr th {\n        vertical-align: top;\n    }\n\n    .dataframe thead th {\n        text-align: right;\n    }\n</style>\n<table border=\"1\" class=\"dataframe\">\n  <thead>\n    <tr style=\"text-align: right;\">\n      <th></th>\n      <th>gender</th>\n      <th>hypertension</th>\n      <th>heart_disease</th>\n      <th>ever_married</th>\n      <th>work_type</th>\n      <th>Residence_type</th>\n      <th>smoking_status</th>\n    </tr>\n  </thead>\n  <tbody>\n    <tr>\n      <th>0</th>\n      <td>Male</td>\n      <td>0</td>\n      <td>1</td>\n      <td>Yes</td>\n      <td>Private</td>\n      <td>Urban</td>\n      <td>formerly smoked</td>\n    </tr>\n    <tr>\n      <th>1</th>\n      <td>Female</td>\n      <td>0</td>\n      <td>0</td>\n      <td>Yes</td>\n      <td>Self-employed</td>\n      <td>Rural</td>\n      <td>never smoked</td>\n    </tr>\n    <tr>\n      <th>2</th>\n      <td>Male</td>\n      <td>0</td>\n      <td>1</td>\n      <td>Yes</td>\n      <td>Private</td>\n      <td>Rural</td>\n      <td>never smoked</td>\n    </tr>\n    <tr>\n      <th>3</th>\n      <td>Female</td>\n      <td>0</td>\n      <td>0</td>\n      <td>Yes</td>\n      <td>Private</td>\n      <td>Urban</td>\n      <td>smokes</td>\n    </tr>\n    <tr>\n      <th>4</th>\n      <td>Female</td>\n      <td>1</td>\n      <td>0</td>\n      <td>Yes</td>\n      <td>Self-employed</td>\n      <td>Rural</td>\n      <td>never smoked</td>\n    </tr>\n    <tr>\n      <th>...</th>\n      <td>...</td>\n      <td>...</td>\n      <td>...</td>\n      <td>...</td>\n      <td>...</td>\n      <td>...</td>\n      <td>...</td>\n    </tr>\n    <tr>\n      <th>5105</th>\n      <td>Female</td>\n      <td>1</td>\n      <td>0</td>\n      <td>Yes</td>\n      <td>Private</td>\n      <td>Urban</td>\n      <td>never smoked</td>\n    </tr>\n    <tr>\n      <th>5106</th>\n      <td>Female</td>\n      <td>0</td>\n      <td>0</td>\n      <td>Yes</td>\n      <td>Self-employed</td>\n      <td>Urban</td>\n      <td>never smoked</td>\n    </tr>\n    <tr>\n      <th>5107</th>\n      <td>Female</td>\n      <td>0</td>\n      <td>0</td>\n      <td>Yes</td>\n      <td>Self-employed</td>\n      <td>Rural</td>\n      <td>never smoked</td>\n    </tr>\n    <tr>\n      <th>5108</th>\n      <td>Male</td>\n      <td>0</td>\n      <td>0</td>\n      <td>Yes</td>\n      <td>Private</td>\n      <td>Rural</td>\n      <td>formerly smoked</td>\n    </tr>\n    <tr>\n      <th>5109</th>\n      <td>Female</td>\n      <td>0</td>\n      <td>0</td>\n      <td>Yes</td>\n      <td>Govt_job</td>\n      <td>Urban</td>\n      <td>never smoked</td>\n    </tr>\n  </tbody>\n</table>\n<p>5110 rows × 7 columns</p>\n</div>"
     },
     "execution_count": 15,
     "metadata": {},
     "output_type": "execute_result"
    }
   ],
   "source": [
    "# sns.heatmap(numerical_data.corr(),annot=True,cmap='RdYlGn',linewidths=0.2) #data.corr() to correlation matrix\n",
    "# fig=plt.gcf()\n",
    "# fig.set_size_inches(20,12)\n",
    "# plt.show()\n",
    "categorical_data = data[['gender','hypertension','heart_disease','ever_married','work_type','Residence_type','smoking_status']]\n",
    "categorical_data"
   ],
   "metadata": {
    "collapsed": false,
    "pycharm": {
     "name": "#%%\n"
    }
   }
  },
  {
   "cell_type": "markdown",
   "source": [
    "Obejrzyjmy teraz korelacje między tak stworzonymi featureami"
   ],
   "metadata": {
    "collapsed": false,
    "pycharm": {
     "name": "#%% md\n"
    }
   }
  },
  {
   "cell_type": "code",
   "source": [
    "dfd = pd.get_dummies(numerical_data, columns = ['stroke','age','avg_glucose_level','bmi','bmi_bin','avg_glucose_level_bin'],\n",
    "                             prefix=['stroke','age','avg_glucose_level','bmi','bmi_type','avg_glucose_level_type'])\n",
    "dfd.head()"
   ],
   "metadata": {
    "collapsed": false,
    "pycharm": {
     "name": "#%%\n"
    }
   },
   "execution_count": 16,
   "outputs": [
    {
     "data": {
      "text/plain": "   stroke_0  stroke_1  age_0.08  age_0.16  age_0.24  age_0.32  age_0.4  \\\n0         0         1         0         0         0         0        0   \n1         0         1         0         0         0         0        0   \n2         0         1         0         0         0         0        0   \n3         0         1         0         0         0         0        0   \n4         0         1         0         0         0         0        0   \n\n   age_0.48  age_0.56  age_0.64  ...  bmi_92.0  bmi_97.6  bmi_type_low_bmi  \\\n0         0         0         0  ...         0         0                 0   \n1         0         0         0  ...         0         0                 0   \n2         0         0         0  ...         0         0                 0   \n3         0         0         0  ...         0         0                 0   \n4         0         0         0  ...         0         0                 1   \n\n   bmi_type_medium_bmi  bmi_type_high_bmi  bmi_type_very_high_bmi  \\\n0                    0                  0                       1   \n1                    1                  0                       0   \n2                    0                  1                       0   \n3                    0                  0                       1   \n4                    0                  0                       0   \n\n   avg_glucose_level_type_low_glucose_level  \\\n0                                         0   \n1                                         0   \n2                                         0   \n3                                         0   \n4                                         0   \n\n   avg_glucose_level_type_medium_glucose_level  \\\n0                                            0   \n1                                            0   \n2                                            0   \n3                                            0   \n4                                            0   \n\n   avg_glucose_level_type_high_glucose_level  \\\n0                                          0   \n1                                          0   \n2                                          1   \n3                                          0   \n4                                          0   \n\n   avg_glucose_level_type_very_high_glucose_level  \n0                                               1  \n1                                               1  \n2                                               0  \n3                                               1  \n4                                               1  \n\n[5 rows x 4512 columns]",
      "text/html": "<div>\n<style scoped>\n    .dataframe tbody tr th:only-of-type {\n        vertical-align: middle;\n    }\n\n    .dataframe tbody tr th {\n        vertical-align: top;\n    }\n\n    .dataframe thead th {\n        text-align: right;\n    }\n</style>\n<table border=\"1\" class=\"dataframe\">\n  <thead>\n    <tr style=\"text-align: right;\">\n      <th></th>\n      <th>stroke_0</th>\n      <th>stroke_1</th>\n      <th>age_0.08</th>\n      <th>age_0.16</th>\n      <th>age_0.24</th>\n      <th>age_0.32</th>\n      <th>age_0.4</th>\n      <th>age_0.48</th>\n      <th>age_0.56</th>\n      <th>age_0.64</th>\n      <th>...</th>\n      <th>bmi_92.0</th>\n      <th>bmi_97.6</th>\n      <th>bmi_type_low_bmi</th>\n      <th>bmi_type_medium_bmi</th>\n      <th>bmi_type_high_bmi</th>\n      <th>bmi_type_very_high_bmi</th>\n      <th>avg_glucose_level_type_low_glucose_level</th>\n      <th>avg_glucose_level_type_medium_glucose_level</th>\n      <th>avg_glucose_level_type_high_glucose_level</th>\n      <th>avg_glucose_level_type_very_high_glucose_level</th>\n    </tr>\n  </thead>\n  <tbody>\n    <tr>\n      <th>0</th>\n      <td>0</td>\n      <td>1</td>\n      <td>0</td>\n      <td>0</td>\n      <td>0</td>\n      <td>0</td>\n      <td>0</td>\n      <td>0</td>\n      <td>0</td>\n      <td>0</td>\n      <td>...</td>\n      <td>0</td>\n      <td>0</td>\n      <td>0</td>\n      <td>0</td>\n      <td>0</td>\n      <td>1</td>\n      <td>0</td>\n      <td>0</td>\n      <td>0</td>\n      <td>1</td>\n    </tr>\n    <tr>\n      <th>1</th>\n      <td>0</td>\n      <td>1</td>\n      <td>0</td>\n      <td>0</td>\n      <td>0</td>\n      <td>0</td>\n      <td>0</td>\n      <td>0</td>\n      <td>0</td>\n      <td>0</td>\n      <td>...</td>\n      <td>0</td>\n      <td>0</td>\n      <td>0</td>\n      <td>1</td>\n      <td>0</td>\n      <td>0</td>\n      <td>0</td>\n      <td>0</td>\n      <td>0</td>\n      <td>1</td>\n    </tr>\n    <tr>\n      <th>2</th>\n      <td>0</td>\n      <td>1</td>\n      <td>0</td>\n      <td>0</td>\n      <td>0</td>\n      <td>0</td>\n      <td>0</td>\n      <td>0</td>\n      <td>0</td>\n      <td>0</td>\n      <td>...</td>\n      <td>0</td>\n      <td>0</td>\n      <td>0</td>\n      <td>0</td>\n      <td>1</td>\n      <td>0</td>\n      <td>0</td>\n      <td>0</td>\n      <td>1</td>\n      <td>0</td>\n    </tr>\n    <tr>\n      <th>3</th>\n      <td>0</td>\n      <td>1</td>\n      <td>0</td>\n      <td>0</td>\n      <td>0</td>\n      <td>0</td>\n      <td>0</td>\n      <td>0</td>\n      <td>0</td>\n      <td>0</td>\n      <td>...</td>\n      <td>0</td>\n      <td>0</td>\n      <td>0</td>\n      <td>0</td>\n      <td>0</td>\n      <td>1</td>\n      <td>0</td>\n      <td>0</td>\n      <td>0</td>\n      <td>1</td>\n    </tr>\n    <tr>\n      <th>4</th>\n      <td>0</td>\n      <td>1</td>\n      <td>0</td>\n      <td>0</td>\n      <td>0</td>\n      <td>0</td>\n      <td>0</td>\n      <td>0</td>\n      <td>0</td>\n      <td>0</td>\n      <td>...</td>\n      <td>0</td>\n      <td>0</td>\n      <td>1</td>\n      <td>0</td>\n      <td>0</td>\n      <td>0</td>\n      <td>0</td>\n      <td>0</td>\n      <td>0</td>\n      <td>1</td>\n    </tr>\n  </tbody>\n</table>\n<p>5 rows × 4512 columns</p>\n</div>"
     },
     "execution_count": 16,
     "metadata": {},
     "output_type": "execute_result"
    }
   ]
  },
  {
   "cell_type": "code",
   "execution_count": null,
   "outputs": [],
   "source": [
    "sns.heatmap(dfd.corr(),annot=True,cmap='RdYlGn',linewidths=0.2) #data.corr()-->correlation matrix\n",
    "fig=plt.gcf()\n",
    "fig.set_size_inches(20,12)\n",
    "plt.show()"
   ],
   "metadata": {
    "collapsed": false,
    "pycharm": {
     "name": "#%%\n"
    }
   }
  },
  {
   "cell_type": "markdown",
   "source": [
    "Widzimy, że dane numeryczne nie są mocno skorelowane (<0.35 dla kazdej korelacji). To dobrze- możemy zatem wykorzystać wszystkie bez obaw."
   ],
   "metadata": {
    "collapsed": false,
    "pycharm": {
     "name": "#%% md\n"
    }
   }
  },
  {
   "cell_type": "markdown",
   "source": [
    "Obejrzyjmy jeszcze pairplot danych numerycznych"
   ],
   "metadata": {
    "collapsed": false,
    "pycharm": {
     "name": "#%% md\n"
    }
   }
  },
  {
   "cell_type": "code",
   "source": [
    "g = sns.pairplot(data=numerical_data,  palette = 'seismic',\n",
    "                 size=1.2,diag_kind = 'kde',diag_kws=dict(shade=True),plot_kws=dict(s=10) )\n",
    "g.set(xticklabels=[])"
   ],
   "metadata": {
    "collapsed": false,
    "pycharm": {
     "name": "#%%\n"
    }
   },
   "execution_count": 156,
   "outputs": [
    {
     "data": {
      "text/plain": "<seaborn.axisgrid.PairGrid at 0x1f8467af760>"
     },
     "execution_count": 156,
     "metadata": {},
     "output_type": "execute_result"
    },
    {
     "data": {
      "text/plain": "<Figure size 259.2x259.2 with 12 Axes>",
      "image/png": "[encoded data removed]"
     },
     "metadata": {
      "needs_background": "light"
     },
     "output_type": "display_data"
    }
   ]
  },
  {
   "cell_type": "markdown",
   "source": [],
   "metadata": {
    "collapsed": false,
    "pycharm": {
     "name": "#%% md\n"
    }
   }
  },
  {
   "cell_type": "code",
   "execution_count": 150,
   "outputs": [],
   "source": [
    "X = data[['gender','age','hypertension','heart_disease','ever_married','work_type','Residence_type','avg_glucose_level','bmi']]\n",
    "y = data['stroke']"
   ],
   "metadata": {
    "collapsed": false,
    "pycharm": {
     "name": "#%%\n"
    }
   }
  },
  {
   "cell_type": "markdown",
   "source": [
    "Podzielimy dane na testowe i treningowe."
   ],
   "metadata": {
    "collapsed": false,
    "pycharm": {
     "name": "#%% md\n"
    }
   }
  },
  {
   "cell_type": "code",
   "execution_count": 151,
   "outputs": [],
   "source": [
    "from sklearn.model_selection import train_test_split\n",
    "X_train, X_test, y_train, y_test = train_test_split(X, y, test_size=0.33)"
   ],
   "metadata": {
    "collapsed": false,
    "pycharm": {
     "name": "#%%\n"
    }
   }
  },
  {
   "cell_type": "markdown",
   "source": [
    "Implementujemy teraz imputery/ selektory/ pipline preprocesowy"
   ],
   "metadata": {
    "collapsed": false,
    "pycharm": {
     "name": "#%% md\n"
    }
   }
  },
  {
   "cell_type": "code",
   "source": [
    "from sklearn.impute import SimpleImputer\n",
    "from sklearn.preprocessing import OneHotEncoder\n",
    "from sklearn.pipeline import Pipeline, FeatureUnion\n",
    "from sklearn.base import BaseEstimator, TransformerMixin\n",
    "\n",
    "# numerical_data = data[['age','avg_glucose_level','bmi']]\n",
    "# X = data[['gender','age','hypertension','heart_disease','ever_married','work_type','Residence_type','avg_glucose_level','bmi']]\n",
    "class DataFrameSelector(BaseEstimator, TransformerMixin):\n",
    "    def __init__(self, attribute_names):\n",
    "        self.attribute_names = attribute_names\n",
    "    def fit(self, X, y=None):\n",
    "        return self\n",
    "    def transform(self, X):\n",
    "        return X[self.attribute_names]\n",
    "\n",
    "class MostFrequentImputer(BaseEstimator, TransformerMixin):\n",
    "    def fit(self, X, y=None):\n",
    "        self.most_frequent_ = pd.Series([X[c].value_counts().index[0] for c in X],\n",
    "                                        index=X.columns)\n",
    "        return self\n",
    "    def transform(self, X, y=None):\n",
    "        return X.fillna(self.most_frequent_)\n",
    "\n",
    "cat_pipeline = Pipeline([\n",
    "        (\"select_cat\", DataFrameSelector(['gender','hypertension','heart_disease','ever_married','work_type','Residence_type'])),\n",
    "        (\"imputer\", MostFrequentImputer()),\n",
    "        (\"cat_encoder\", OneHotEncoder(sparse=False, handle_unknown = 'ignore')),\n",
    "    ])\n",
    "num_pipeline = Pipeline([\n",
    "        (\"select_numeric\", DataFrameSelector(['age','avg_glucose_level','bmi'])),\n",
    "        (\"imputer\", SimpleImputer(strategy=\"median\")),\n",
    "    ])\n",
    "\n",
    "preprocess_pipeline = FeatureUnion(transformer_list=[\n",
    "        (\"num_pipeline\", num_pipeline),\n",
    "        (\"cat_pipeline\", cat_pipeline),\n",
    "    ])\n",
    "\n",
    "cat_pipeline.fit_transform(X_train)"
   ],
   "metadata": {
    "collapsed": false,
    "pycharm": {
     "name": "#%%\n"
    }
   },
   "execution_count": 157,
   "outputs": [
    {
     "data": {
      "text/plain": "array([[0., 1., 0., ..., 1., 0., 1.],\n       [0., 1., 0., ..., 0., 1., 0.],\n       [0., 1., 0., ..., 0., 0., 1.],\n       ...,\n       [1., 0., 0., ..., 0., 1., 0.],\n       [1., 0., 0., ..., 0., 0., 1.],\n       [0., 1., 0., ..., 0., 1., 0.]])"
     },
     "execution_count": 157,
     "metadata": {},
     "output_type": "execute_result"
    }
   ]
  },
  {
   "cell_type": "code",
   "execution_count": null,
   "outputs": [],
   "source": [],
   "metadata": {
    "collapsed": false,
    "pycharm": {
     "name": "#%%\n"
    }
   }
  }
 ],
 "metadata": {
  "kernelspec": {
   "name": "pycharm-6ccb0679",
   "language": "python",
   "display_name": "PyCharm (podstawy_sztucznej_inteligencji)"
  },
  "language_info": {
   "codemirror_mode": {
    "name": "ipython",
    "version": 2
   },
   "file_extension": ".py",
   "mimetype": "text/x-python",
   "name": "python",
   "nbconvert_exporter": "python",
   "pygments_lexer": "ipython2",
   "version": "2.7.6"
  }
 },
 "nbformat": 4,
 "nbformat_minor": 0
}